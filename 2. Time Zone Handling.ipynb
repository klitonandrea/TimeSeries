{
 "cells": [
  {
   "cell_type": "code",
   "execution_count": 1,
   "metadata": {
    "collapsed": true
   },
   "outputs": [],
   "source": [
    "import numpy as np\n",
    "import pandas as pd"
   ]
  },
  {
   "cell_type": "code",
   "execution_count": 2,
   "metadata": {
    "collapsed": true
   },
   "outputs": [],
   "source": [
    "rng = pd.date_range('3/6/2012 00:00', periods = 15, freq = 'D')\n",
    "rng.tz"
   ]
  },
  {
   "cell_type": "code",
   "execution_count": 3,
   "metadata": {
    "collapsed": false
   },
   "outputs": [
    {
     "data": {
      "text/plain": [
       "<DstTzInfo 'Europe/London' LMT-1 day, 23:59:00 STD>"
      ]
     },
     "execution_count": 3,
     "metadata": {},
     "output_type": "execute_result"
    }
   ],
   "source": [
    "rng_tz = pd.date_range('3/6/2012 00:00', periods = 15, freq = 'D', tz = 'Europe/London')\n",
    "rng_tz.tz"
   ]
  },
  {
   "cell_type": "code",
   "execution_count": 4,
   "metadata": {
    "collapsed": false
   },
   "outputs": [
    {
     "name": "stdout",
     "output_type": "stream",
     "text": [
      "439\n",
      "592\n",
      "{'Asia/Macao', 'America/Louisville', 'Etc/GMT-14', 'Etc/GMT-7', 'America/Knox_IN', 'ROC', 'Atlantic/Jan_Mayen', 'Etc/GMT+0', 'GMT+0', 'Asia/Saigon', 'EST5EDT', 'Australia/Tasmania', 'Asia/Dacca', 'Etc/GMT+9', 'Mexico/BajaSur', 'Etc/GMT-8', 'EET', 'W-SU', 'Etc/GMT-12', 'Etc/GMT+8', 'Asia/Thimbu', 'Etc/GMT+2', 'Asia/Ujung_Pandang', 'Etc/GMT+7', 'Etc/GMT-3', 'America/Mendoza', 'Etc/Universal', 'PST8PDT', 'Atlantic/Faeroe', 'Pacific/Samoa', 'Brazil/West', 'America/Rosario', 'Poland', 'Etc/GMT-2', 'Asia/Tel_Aviv', 'GB-Eire', 'UCT', 'Canada/Saskatchewan', 'Europe/Tiraspol', 'America/Indianapolis', 'Europe/Nicosia', 'Etc/GMT-9', 'Australia/Queensland', 'Etc/GMT-11', 'America/Jujuy', 'Asia/Ulan_Bator', 'Mexico/General', 'Australia/South', 'Etc/GMT-10', 'Etc/GMT+10', 'Iceland', 'Australia/NSW', 'Etc/GMT+12', 'Universal', 'CST6CDT', 'Africa/Timbuktu', 'GB', 'Australia/ACT', 'Etc/GMT+6', 'Pacific/Truk', 'Brazil/DeNoronha', 'US/Pacific-New', 'Brazil/East', 'GMT0', 'Australia/Yancowinna', 'Etc/UTC', 'Asia/Katmandu', 'ROK', 'Libya', 'Australia/West', 'Kwajalein', 'Israel', 'Chile/Continental', 'America/Ensenada', 'Australia/LHI', 'Cuba', 'Etc/GMT+1', 'Japan', 'Asia/Harbin', 'Etc/Greenwich', 'Etc/UCT', 'America/Fort_Wayne', 'Australia/North', 'America/Virgin', 'Etc/GMT-4', 'America/Santa_Isabel', 'Etc/GMT0', 'HST', 'Asia/Rangoon', 'Etc/GMT-5', 'WET', 'Jamaica', 'Mexico/BajaNorte', 'Asia/Calcutta', 'Asia/Ashkhabad', 'Etc/GMT-0', 'America/Shiprock', 'CET', 'Asia/Chungking', 'Brazil/Acre', 'Hongkong', 'Pacific/Yap', 'Africa/Asmera', 'America/Buenos_Aires', 'America/Cordoba', 'PRC', 'Etc/GMT+11', 'Etc/GMT+3', 'Antarctica/South_Pole', 'Portugal', 'Etc/GMT', 'Canada/Yukon', 'MST7MDT', 'Etc/GMT-13', 'Egypt', 'America/Atka', 'Etc/GMT-6', 'US/Aleutian', 'NZ-CHAT', 'Etc/Zulu', 'Eire', 'Singapore', 'NZ', 'Asia/Kashgar', 'Etc/GMT+4', 'America/Catamarca', 'America/Porto_Acre', 'Etc/GMT-1', 'America/Argentina/ComodRivadavia', 'Greenwich', 'US/Michigan', 'America/Montreal', 'Iran', 'Pacific/Ponape', 'MST', 'America/Coral_Harbour', 'Turkey', 'Australia/Canberra', 'Chile/EasterIsland', 'Zulu', 'GMT-0', 'EST', 'US/East-Indiana', 'Australia/Victoria', 'US/Indiana-Starke', 'Asia/Chongqing', 'Asia/Istanbul', 'Canada/East-Saskatchewan', 'MET', 'Etc/GMT+5', 'US/Samoa', 'Europe/Belfast', 'Navajo'}\n"
     ]
    }
   ],
   "source": [
    "from pytz import common_timezones, all_timezones\n",
    "print(len(common_timezones))\n",
    "print(len(all_timezones))\n",
    "print(set(all_timezones) - set(common_timezones))"
   ]
  },
  {
   "cell_type": "code",
   "execution_count": 5,
   "metadata": {
    "collapsed": false
   },
   "outputs": [
    {
     "data": {
      "text/plain": [
       "Timestamp('2016-07-10 08:50:00')"
      ]
     },
     "execution_count": 5,
     "metadata": {},
     "output_type": "execute_result"
    }
   ],
   "source": [
    "# You can also localize a naive timestamp\n",
    "t_naive = pd.Timestamp('2016-07-10 08:50')\n",
    "t_naive"
   ]
  },
  {
   "cell_type": "code",
   "execution_count": 6,
   "metadata": {
    "collapsed": false
   },
   "outputs": [
    {
     "data": {
      "text/plain": [
       "Timestamp('2016-07-10 08:50:00-0500', tz='US/Central')"
      ]
     },
     "execution_count": 6,
     "metadata": {},
     "output_type": "execute_result"
    }
   ],
   "source": [
    "t = t_naive.tz_localize(tz = 'US/Central')\n",
    "t"
   ]
  },
  {
   "cell_type": "code",
   "execution_count": 7,
   "metadata": {
    "collapsed": false
   },
   "outputs": [
    {
     "data": {
      "text/plain": [
       "Timestamp('2016-07-10 22:50:00+0900', tz='Asia/Tokyo')"
      ]
     },
     "execution_count": 7,
     "metadata": {},
     "output_type": "execute_result"
    }
   ],
   "source": [
    "t.tz_convert('Asia/Tokyo')"
   ]
  },
  {
   "cell_type": "code",
   "execution_count": 8,
   "metadata": {
    "collapsed": false
   },
   "outputs": [
    {
     "data": {
      "text/plain": [
       "2016-03-10 00:00:00-06:00    0\n",
       "2016-03-11 00:00:00-06:00    1\n",
       "2016-03-12 00:00:00-06:00    2\n",
       "2016-03-13 00:00:00-06:00    3\n",
       "2016-03-14 00:00:00-05:00    4\n",
       "2016-03-15 00:00:00-05:00    5\n",
       "2016-03-16 00:00:00-05:00    6\n",
       "2016-03-17 00:00:00-05:00    7\n",
       "2016-03-18 00:00:00-05:00    8\n",
       "2016-03-19 00:00:00-05:00    9\n",
       "Freq: D, dtype: int64"
      ]
     },
     "execution_count": 8,
     "metadata": {},
     "output_type": "execute_result"
    }
   ],
   "source": [
    "# how to handle daylight savings?\n",
    "rng = pd.date_range('2016-03-10', periods=10, tz='US/Central')\n",
    "ts = pd.Series(range(10), index=rng)\n",
    "ts"
   ]
  },
  {
   "cell_type": "code",
   "execution_count": 9,
   "metadata": {
    "collapsed": false
   },
   "outputs": [
    {
     "data": {
      "text/plain": [
       "2016-03-10 00:00:00+00:00    0\n",
       "2016-03-11 00:00:00+00:00    1\n",
       "2016-03-12 00:00:00+00:00    2\n",
       "2016-03-13 00:00:00+00:00    3\n",
       "2016-03-14 00:00:00+00:00    4\n",
       "2016-03-15 00:00:00+00:00    5\n",
       "2016-03-16 00:00:00+00:00    6\n",
       "2016-03-17 00:00:00+00:00    7\n",
       "2016-03-18 00:00:00+00:00    8\n",
       "2016-03-19 00:00:00+00:00    9\n",
       "Freq: D, dtype: int64"
      ]
     },
     "execution_count": 9,
     "metadata": {},
     "output_type": "execute_result"
    }
   ],
   "source": [
    "rng = pd.date_range('2016-03-10', periods=10, tz='utc')\n",
    "ts = pd.Series(range(10), index=rng)\n",
    "ts"
   ]
  },
  {
   "cell_type": "code",
   "execution_count": 10,
   "metadata": {
    "collapsed": false
   },
   "outputs": [
    {
     "data": {
      "text/plain": [
       "2016-03-09 18:00:00-06:00    0\n",
       "2016-03-10 18:00:00-06:00    1\n",
       "2016-03-11 18:00:00-06:00    2\n",
       "2016-03-12 18:00:00-06:00    3\n",
       "2016-03-13 19:00:00-05:00    4\n",
       "2016-03-14 19:00:00-05:00    5\n",
       "2016-03-15 19:00:00-05:00    6\n",
       "2016-03-16 19:00:00-05:00    7\n",
       "2016-03-17 19:00:00-05:00    8\n",
       "2016-03-18 19:00:00-05:00    9\n",
       "Freq: D, dtype: int64"
      ]
     },
     "execution_count": 10,
     "metadata": {},
     "output_type": "execute_result"
    }
   ],
   "source": [
    "ts.tz_convert('US/Central')"
   ]
  },
  {
   "cell_type": "code",
   "execution_count": 11,
   "metadata": {
    "collapsed": false
   },
   "outputs": [
    {
     "data": {
      "text/plain": [
       "DatetimeIndex(['2016-03-12 22:00:00-05:00', '2016-03-12 23:00:00-05:00',\n",
       "               '2016-03-13 00:00:00-05:00', '2016-03-13 01:00:00-05:00',\n",
       "               '2016-03-13 03:00:00-04:00', '2016-03-13 04:00:00-04:00',\n",
       "               '2016-03-13 05:00:00-04:00', '2016-03-13 06:00:00-04:00',\n",
       "               '2016-03-13 07:00:00-04:00', '2016-03-13 08:00:00-04:00',\n",
       "               '2016-03-13 09:00:00-04:00', '2016-03-13 10:00:00-04:00'],\n",
       "              dtype='datetime64[ns, US/Eastern]', freq='H')"
      ]
     },
     "execution_count": 11,
     "metadata": {},
     "output_type": "execute_result"
    }
   ],
   "source": [
    "pd.date_range('03-12-2016 22:00', periods = 12, freq = 'H', tz = 'US/Eastern')"
   ]
  },
  {
   "cell_type": "code",
   "execution_count": 12,
   "metadata": {
    "collapsed": false
   },
   "outputs": [
    {
     "data": {
      "text/plain": [
       "Timestamp('2016-03-13 03:00:00-0400', tz='US/Eastern')"
      ]
     },
     "execution_count": 12,
     "metadata": {},
     "output_type": "execute_result"
    }
   ],
   "source": [
    "# May autocorrect an error rather than giving you a non-existent time error\n",
    "pd.Timestamp('2016-03-13 02:00', tz = 'US/Eastern')"
   ]
  },
  {
   "cell_type": "code",
   "execution_count": null,
   "metadata": {
    "collapsed": true
   },
   "outputs": [],
   "source": []
  }
 ],
 "metadata": {
  "anaconda-cloud": {},
  "kernelspec": {
   "display_name": "Python [default]",
   "language": "python",
   "name": "python3"
  },
  "language_info": {
   "codemirror_mode": {
    "name": "ipython",
    "version": 3
   },
   "file_extension": ".py",
   "mimetype": "text/x-python",
   "name": "python",
   "nbconvert_exporter": "python",
   "pygments_lexer": "ipython3",
   "version": "3.5.2"
  }
 },
 "nbformat": 4,
 "nbformat_minor": 0
}
